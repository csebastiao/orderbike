{
 "cells": [
  {
   "cell_type": "code",
   "execution_count": 3,
   "metadata": {},
   "outputs": [],
   "source": [
    "from utg import create_graph, utils\n",
    "from orderbike import plot, growth\n",
    "import json\n",
    "import os"
   ]
  },
  {
   "cell_type": "code",
   "execution_count": 4,
   "metadata": {},
   "outputs": [
    {
     "data": {
      "image/png": "[encoded data removed]",
      "text/plain": [
       "<Figure size 640x480 with 1 Axes>"
      ]
     },
     "metadata": {},
     "output_type": "display_data"
    },
    {
     "data": {
      "text/plain": [
       "(<Figure size 640x480 with 1 Axes>, <Axes: >)"
      ]
     },
     "execution_count": 4,
     "metadata": {},
     "output_type": "execute_result"
    }
   ],
   "source": [
    "G = create_graph.create_grid_graph(rows=10, cols=10, width=100, diagonal=False)\n",
    "utils.plot_graph(G)"
   ]
  },
  {
   "cell_type": "code",
   "execution_count": 5,
   "metadata": {},
   "outputs": [
    {
     "name": "stdout",
     "output_type": "stream",
     "text": [
      "Node 0 is {'x': 0, 'y': 0}, Node 1 is {'x': 0, 'y': 100}, Node 10 is {'x': 100, 'y': 0}.\n"
     ]
    }
   ],
   "source": [
    "print(f\"Node 0 is {G.nodes[0]}, Node 1 is {G.nodes[1]}, Node 10 is {G.nodes[10]}.\")"
   ]
  },
  {
   "cell_type": "markdown",
   "metadata": {},
   "source": [
    "You need to add 1 to go up, add 10 to go right !"
   ]
  },
  {
   "cell_type": "code",
   "execution_count": 106,
   "metadata": {},
   "outputs": [],
   "source": [
    "manual_order = []\n",
    "# manual_order.append((0, 1))\n",
    "manual_order.append((1, 2))\n",
    "manual_order.append((2, 3))\n",
    "manual_order.append((3, 4))\n",
    "manual_order.append((4, 5))\n",
    "manual_order.append((5, 6))\n",
    "manual_order.append((6, 7))\n",
    "manual_order.append((7, 8))\n",
    "manual_order.append((8, 9))\n",
    "for j in range(9):\n",
    "    manual_order.append((j * 10, j * 10 + 10))\n",
    "    for i in range(9):\n",
    "        manual_order.append((j * 10 + i + 1, j * 10 + i + 11))\n",
    "        manual_order.append((j * 10 + i + 10, j * 10 + i + 11))"
   ]
  },
  {
   "cell_type": "code",
   "execution_count": 107,
   "metadata": {},
   "outputs": [
    {
     "data": {
      "image/png": "[encoded data removed]",
      "text/plain": [
       "<Figure size 640x480 with 1 Axes>"
      ]
     },
     "metadata": {},
     "output_type": "display_data"
    },
    {
     "data": {
      "text/plain": [
       "(<Figure size 640x480 with 1 Axes>, <Axes: >)"
      ]
     },
     "execution_count": 107,
     "metadata": {},
     "output_type": "execute_result"
    }
   ],
   "source": [
    "utils.plot_graph(G.edge_subgraph(manual_order))"
   ]
  },
  {
   "cell_type": "code",
   "execution_count": 108,
   "metadata": {},
   "outputs": [
    {
     "data": {
      "text/plain": [
       "179"
      ]
     },
     "execution_count": 108,
     "metadata": {},
     "output_type": "execute_result"
    }
   ],
   "source": [
    "len(manual_order)"
   ]
  },
  {
   "cell_type": "code",
   "execution_count": 109,
   "metadata": {},
   "outputs": [],
   "source": [
    "foldername = \"../data/processed/ignored_files/utg_grid_trials/manual_additive_connected/second_order\""
   ]
  },
  {
   "cell_type": "code",
   "execution_count": 111,
   "metadata": {},
   "outputs": [],
   "source": [
    "foldergrowth = foldername + \"/growth\"\n",
    "if not os.path.exists(foldergrowth):\n",
    "    os.makedirs(foldergrowth)"
   ]
  },
  {
   "cell_type": "code",
   "execution_count": 112,
   "metadata": {},
   "outputs": [],
   "source": [
    "with open(foldername + \"/order_growth.json\", \"w\") as f:\n",
    "    json.dump(manual_order, f)"
   ]
  },
  {
   "cell_type": "code",
   "execution_count": 113,
   "metadata": {},
   "outputs": [],
   "source": [
    "metrics_dict = growth.compute_metrics(G, manual_order, built=False, buff_size=152)\n",
    "with open(foldername + \"/metrics_growth.json\", \"w\") as f:\n",
    "    json.dump(metrics_dict, f)"
   ]
  },
  {
   "cell_type": "code",
   "execution_count": 114,
   "metadata": {},
   "outputs": [],
   "source": [
    "plot.plot_growth(\n",
    "    G,\n",
    "    manual_order,\n",
    "    foldergrowth,\n",
    "    built=False,\n",
    "    color_built=\"firebrick\",\n",
    "    color_added=\"steelblue\",\n",
    "    color_newest=\"darkgreen\",\n",
    "    node_size=8,\n",
    ")"
   ]
  },
  {
   "cell_type": "code",
   "execution_count": 115,
   "metadata": {},
   "outputs": [],
   "source": [
    "plot.make_growth_video(foldergrowth, foldergrowth + \"/growth_video.mp4\", fps=3)"
   ]
  },
  {
   "cell_type": "code",
   "execution_count": 116,
   "metadata": {},
   "outputs": [],
   "source": [
    "foldergrowth_buff = foldername + \"/growth_buffer\"\n",
    "if not os.path.exists(foldergrowth_buff):\n",
    "    os.makedirs(foldergrowth_buff)\n",
    "plot.plot_growth(\n",
    "    G,\n",
    "    manual_order,\n",
    "    foldergrowth_buff,\n",
    "    built=False,\n",
    "    color_built=\"firebrick\",\n",
    "    color_added=\"steelblue\",\n",
    "    color_newest=\"darkgreen\",\n",
    "    node_size=8,\n",
    "    buffer=True,\n",
    "    plot_metrics=True,\n",
    "    growth_cov=metrics_dict[\"coverage\"],\n",
    "    growth_xx=metrics_dict[\"xx\"],\n",
    "    growth_dir=metrics_dict[\"directness\"],\n",
    "    growth_reldir=metrics_dict[\"relative_directness\"],\n",
    ")"
   ]
  },
  {
   "cell_type": "code",
   "execution_count": 117,
   "metadata": {},
   "outputs": [],
   "source": [
    "plot.make_growth_video(\n",
    "    foldergrowth_buff, foldergrowth_buff + \"/growth_video.mp4\", fps=3\n",
    ")"
   ]
  },
  {
   "cell_type": "code",
   "execution_count": null,
   "metadata": {},
   "outputs": [],
   "source": []
  }
 ],
 "metadata": {
  "kernelspec": {
   "display_name": "orderbike",
   "language": "python",
   "name": "python3"
  },
  "language_info": {
   "codemirror_mode": {
    "name": "ipython",
    "version": 3
   },
   "file_extension": ".py",
   "mimetype": "text/x-python",
   "name": "python",
   "nbconvert_exporter": "python",
   "pygments_lexer": "ipython3",
   "version": "3.12.2"
  }
 },
 "nbformat": 4,
 "nbformat_minor": 2
}
