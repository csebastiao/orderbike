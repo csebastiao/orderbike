{
 "cells": [
  {
   "cell_type": "code",
   "execution_count": 107,
   "metadata": {},
   "outputs": [],
   "source": [
    "from utg import create_graph, utils\n",
    "from orderbike import plot, growth\n",
    "import json\n",
    "import os"
   ]
  },
  {
   "cell_type": "code",
   "execution_count": 108,
   "metadata": {},
   "outputs": [
    {
     "data": {
      "image/png": "[encoded data removed]",
      "text/plain": [
       "<Figure size 640x480 with 1 Axes>"
      ]
     },
     "metadata": {},
     "output_type": "display_data"
    },
    {
     "data": {
      "text/plain": [
       "(<Figure size 640x480 with 1 Axes>, <Axes: >)"
      ]
     },
     "execution_count": 108,
     "metadata": {},
     "output_type": "execute_result"
    }
   ],
   "source": [
    "G = create_graph.create_grid_graph(rows=10, cols=10, width=100, diagonal=False)\n",
    "utils.plot_graph(G)"
   ]
  },
  {
   "cell_type": "code",
   "execution_count": 109,
   "metadata": {},
   "outputs": [
    {
     "name": "stdout",
     "output_type": "stream",
     "text": [
      "Node 0 is {'x': 0, 'y': 0}, Node 1 is {'x': 0, 'y': 100}, Node 10 is {'x': 100, 'y': 0}.\n"
     ]
    }
   ],
   "source": [
    "print(f\"Node 0 is {G.nodes[0]}, Node 1 is {G.nodes[1]}, Node 10 is {G.nodes[10]}.\")"
   ]
  },
  {
   "cell_type": "markdown",
   "metadata": {},
   "source": [
    "You need to add 1 to go up, add 10 to go right !"
   ]
  },
  {
   "cell_type": "code",
   "execution_count": 110,
   "metadata": {},
   "outputs": [],
   "source": [
    "manual_order = []\n",
    "# manual_order.append((43, 53))\n",
    "manual_order.append((33, 43))\n",
    "manual_order.append((53, 63))\n",
    "\n",
    "manual_order.append((63, 64))\n",
    "manual_order.append((33, 34))\n",
    "manual_order.append((64, 65))\n",
    "manual_order.append((34, 35))\n",
    "manual_order.append((65, 66))\n",
    "manual_order.append((35, 36))\n",
    "\n",
    "manual_order.append((36, 46))\n",
    "manual_order.append((56, 66))\n",
    "manual_order.append((46, 56))\n",
    "\n",
    "manual_order.append((63, 73))\n",
    "manual_order.append((73, 83))\n",
    "manual_order.append((83, 93))\n",
    "\n",
    "manual_order.append((26, 36))\n",
    "manual_order.append((16, 26))\n",
    "manual_order.append((6, 16))\n",
    "\n",
    "manual_order.append((32, 33))\n",
    "manual_order.append((31, 32))\n",
    "manual_order.append((30, 31))\n",
    "\n",
    "manual_order.append((66, 67))\n",
    "manual_order.append((67, 68))\n",
    "manual_order.append((68, 69))\n",
    "\n",
    "manual_order.append((66, 76))\n",
    "manual_order.append((76, 86))\n",
    "manual_order.append((86, 96))\n",
    "\n",
    "manual_order.append((62, 63))\n",
    "manual_order.append((61, 62))\n",
    "manual_order.append((60, 61))\n",
    "\n",
    "manual_order.append((23, 33))\n",
    "manual_order.append((13, 23))\n",
    "manual_order.append((3, 13))\n",
    "\n",
    "manual_order.append((36, 37))\n",
    "manual_order.append((37, 38))\n",
    "manual_order.append((38, 39))\n",
    "\n",
    "manual_order.append((93, 94))\n",
    "manual_order.append((94, 95))\n",
    "manual_order.append((95, 96))\n",
    "\n",
    "manual_order.append((3, 4))\n",
    "manual_order.append((4, 5))\n",
    "manual_order.append((5, 6))\n",
    "\n",
    "manual_order.append((30, 40))\n",
    "manual_order.append((40, 50))\n",
    "manual_order.append((50, 60))\n",
    "\n",
    "manual_order.append((39, 49))\n",
    "manual_order.append((49, 59))\n",
    "manual_order.append((59, 69))\n",
    "\n",
    "manual_order.append((60, 70))\n",
    "manual_order.append((70, 80))\n",
    "manual_order.append((80, 90))\n",
    "\n",
    "manual_order.append((6, 7))\n",
    "manual_order.append((7, 8))\n",
    "manual_order.append((8, 9))\n",
    "\n",
    "manual_order.append((69, 79))\n",
    "manual_order.append((79, 89))\n",
    "manual_order.append((89, 99))\n",
    "\n",
    "manual_order.append((20, 30))\n",
    "manual_order.append((10, 20))\n",
    "manual_order.append((0, 10))\n",
    "\n",
    "manual_order.append((90, 91))\n",
    "manual_order.append((91, 92))\n",
    "manual_order.append((92, 93))\n",
    "\n",
    "manual_order.append((9, 19))\n",
    "manual_order.append((19, 29))\n",
    "manual_order.append((29, 39))\n",
    "\n",
    "manual_order.append((2, 3))\n",
    "manual_order.append((1, 2))\n",
    "manual_order.append((0, 1))\n",
    "\n",
    "manual_order.append((96, 97))\n",
    "manual_order.append((97, 98))\n",
    "manual_order.append((98, 99))\n",
    "\n",
    "manual_order.append((32, 42))\n",
    "manual_order.append((42, 52))\n",
    "manual_order.append((52, 62))\n",
    "\n",
    "manual_order.append((73, 74))\n",
    "manual_order.append((74, 75))\n",
    "manual_order.append((75, 76))\n",
    "\n",
    "manual_order.append((57, 67))\n",
    "manual_order.append((47, 57))\n",
    "manual_order.append((37, 47))\n",
    "\n",
    "manual_order.append((23, 24))\n",
    "manual_order.append((24, 25))\n",
    "manual_order.append((25, 26))\n",
    "\n",
    "manual_order.append((22, 23))\n",
    "manual_order.append((22, 32))\n",
    "\n",
    "manual_order.append((67, 77))\n",
    "manual_order.append((76, 77))\n",
    "\n",
    "manual_order.append((26, 27))\n",
    "manual_order.append((27, 37))\n",
    "\n",
    "manual_order.append((62, 72))\n",
    "manual_order.append((72, 73))\n",
    "\n",
    "manual_order.append((25, 35))\n",
    "manual_order.append((35, 45))\n",
    "\n",
    "manual_order.append((45, 55))\n",
    "manual_order.append((55, 65))\n",
    "manual_order.append((65, 75))\n",
    "\n",
    "manual_order.append((52, 53))\n",
    "manual_order.append((53, 54))\n",
    "manual_order.append((54, 55))\n",
    "manual_order.append((55, 56))\n",
    "manual_order.append((56, 57))\n",
    "\n",
    "manual_order.append((21, 22))\n",
    "manual_order.append((20, 21))\n",
    "\n",
    "manual_order.append((7, 17))\n",
    "manual_order.append((17, 27))\n",
    "\n",
    "manual_order.append((72, 82))\n",
    "manual_order.append((82, 92))\n",
    "\n",
    "manual_order.append((71, 72))\n",
    "manual_order.append((70, 71))\n",
    "\n",
    "manual_order.append((12, 22))\n",
    "manual_order.append((2, 12))\n",
    "\n",
    "manual_order.append((27, 28))\n",
    "manual_order.append((28, 29))\n",
    "\n",
    "manual_order.append((77, 87))\n",
    "manual_order.append((87, 97))\n",
    "\n",
    "manual_order.append((77, 78))\n",
    "manual_order.append((78, 79))\n",
    "\n",
    "manual_order.append((24, 34))\n",
    "manual_order.append((42, 43))\n",
    "manual_order.append((43, 44))\n",
    "manual_order.append((34, 44))\n",
    "manual_order.append((44, 45))\n",
    "manual_order.append((45, 46))\n",
    "manual_order.append((46, 47))\n",
    "manual_order.append((44, 54))\n",
    "manual_order.append((54, 64))\n",
    "manual_order.append((64, 74))\n",
    "\n",
    "manual_order.append((21, 31))\n",
    "manual_order.append((31, 41))\n",
    "manual_order.append((41, 51))\n",
    "manual_order.append((51, 61))\n",
    "manual_order.append((61, 71))\n",
    "\n",
    "manual_order.append((28, 38))\n",
    "manual_order.append((38, 48))\n",
    "manual_order.append((48, 58))\n",
    "manual_order.append((58, 68))\n",
    "manual_order.append((68, 78))\n",
    "\n",
    "manual_order.append((12, 13))\n",
    "manual_order.append((13, 14))\n",
    "manual_order.append((14, 15))\n",
    "manual_order.append((15, 16))\n",
    "manual_order.append((16, 17))\n",
    "\n",
    "manual_order.append((82, 83))\n",
    "manual_order.append((83, 84))\n",
    "manual_order.append((84, 85))\n",
    "manual_order.append((85, 86))\n",
    "manual_order.append((86, 87))\n",
    "manual_order.append((87, 88))\n",
    "\n",
    "manual_order.append((78, 88))\n",
    "\n",
    "manual_order.append((11, 21))\n",
    "manual_order.append((11, 12))\n",
    "manual_order.append((17, 18))\n",
    "\n",
    "manual_order.append((18, 28))\n",
    "\n",
    "manual_order.append((71, 81))\n",
    "manual_order.append((81, 82))\n",
    "\n",
    "manual_order.append((40, 41))\n",
    "manual_order.append((41, 42))\n",
    "\n",
    "manual_order.append((74, 84))\n",
    "manual_order.append((84, 94))\n",
    "\n",
    "manual_order.append((57, 58))\n",
    "manual_order.append((58, 59))\n",
    "\n",
    "manual_order.append((15, 25))\n",
    "manual_order.append((5, 15))\n",
    "\n",
    "manual_order.append((51, 52))\n",
    "manual_order.append((50, 51))\n",
    "\n",
    "manual_order.append((75, 85))\n",
    "manual_order.append((85, 95))\n",
    "\n",
    "manual_order.append((14, 24))\n",
    "manual_order.append((4, 14))\n",
    "\n",
    "manual_order.append((47, 48))\n",
    "manual_order.append((48, 49))\n",
    "\n",
    "manual_order.append((81, 91))\n",
    "manual_order.append((88, 89))\n",
    "manual_order.append((8, 18))\n",
    "manual_order.append((10, 11))\n",
    "manual_order.append((80, 81))\n",
    "manual_order.append((18, 19))\n",
    "manual_order.append((88, 98))\n",
    "manual_order.append((1, 11))"
   ]
  },
  {
   "cell_type": "code",
   "execution_count": 111,
   "metadata": {},
   "outputs": [
    {
     "data": {
      "image/png": "[encoded data removed]",
      "text/plain": [
       "<Figure size 640x480 with 1 Axes>"
      ]
     },
     "metadata": {},
     "output_type": "display_data"
    },
    {
     "data": {
      "text/plain": [
       "(<Figure size 640x480 with 1 Axes>, <Axes: >)"
      ]
     },
     "execution_count": 111,
     "metadata": {},
     "output_type": "execute_result"
    }
   ],
   "source": [
    "utils.plot_graph(G.edge_subgraph(manual_order))"
   ]
  },
  {
   "cell_type": "code",
   "execution_count": 112,
   "metadata": {},
   "outputs": [],
   "source": [
    "foldername = (\n",
    "    \"../data/processed/ignored_files/utg_grid_trials/manually_made_order/first_manual\"\n",
    ")"
   ]
  },
  {
   "cell_type": "code",
   "execution_count": 113,
   "metadata": {},
   "outputs": [],
   "source": [
    "foldergrowth = foldername + \"/growth\"\n",
    "if not os.path.exists(foldergrowth):\n",
    "    os.makedirs(foldergrowth)\n",
    "plot.plot_growth(\n",
    "    G,\n",
    "    manual_order,\n",
    "    foldergrowth,\n",
    "    built=False,\n",
    "    color_built=\"firebrick\",\n",
    "    color_added=\"steelblue\",\n",
    "    color_newest=\"darkgreen\",\n",
    "    node_size=8,\n",
    ")"
   ]
  },
  {
   "cell_type": "code",
   "execution_count": 117,
   "metadata": {},
   "outputs": [],
   "source": [
    "plot.make_growth_video(foldergrowth, foldergrowth + \"/growth_video.mp4\", fps=3)"
   ]
  },
  {
   "cell_type": "code",
   "execution_count": 118,
   "metadata": {},
   "outputs": [],
   "source": [
    "with open(foldername + \"/order_growth.json\", \"w\") as f:\n",
    "    json.dump(manual_order, f)"
   ]
  },
  {
   "cell_type": "code",
   "execution_count": 115,
   "metadata": {},
   "outputs": [],
   "source": [
    "metrics_dict = growth.compute_metrics(G, manual_order, built=False, buff_size=152)\n",
    "with open(foldername + \"/metrics_growth.json\", \"w\") as f:\n",
    "    json.dump(metrics_dict, f)"
   ]
  },
  {
   "cell_type": "code",
   "execution_count": 116,
   "metadata": {},
   "outputs": [],
   "source": [
    "foldergrowth_buff = foldername + \"/growth_buffer\"\n",
    "if not os.path.exists(foldergrowth_buff):\n",
    "    os.makedirs(foldergrowth_buff)\n",
    "plot.plot_growth(\n",
    "    G,\n",
    "    manual_order,\n",
    "    foldergrowth_buff,\n",
    "    built=False,\n",
    "    color_built=\"firebrick\",\n",
    "    color_added=\"steelblue\",\n",
    "    color_newest=\"darkgreen\",\n",
    "    node_size=8,\n",
    "    buffer=True,\n",
    "    plot_metrics=True,\n",
    "    growth_cov=metrics_dict[\"coverage\"],\n",
    "    growth_xx=metrics_dict[\"xx\"],\n",
    "    growth_dir=metrics_dict[\"directness\"],\n",
    "    growth_reldir=metrics_dict[\"relative_directness\"],\n",
    ")"
   ]
  },
  {
   "cell_type": "code",
   "execution_count": 119,
   "metadata": {},
   "outputs": [],
   "source": [
    "plot.make_growth_video(\n",
    "    foldergrowth_buff, foldergrowth_buff + \"/growth_video.mp4\", fps=3\n",
    ")"
   ]
  }
 ],
 "metadata": {
  "kernelspec": {
   "display_name": "orderbike",
   "language": "python",
   "name": "python3"
  },
  "language_info": {
   "codemirror_mode": {
    "name": "ipython",
    "version": 3
   },
   "file_extension": ".py",
   "mimetype": "text/x-python",
   "name": "python",
   "nbconvert_exporter": "python",
   "pygments_lexer": "ipython3",
   "version": "3.12.2"
  }
 },
 "nbformat": 4,
 "nbformat_minor": 2
}
