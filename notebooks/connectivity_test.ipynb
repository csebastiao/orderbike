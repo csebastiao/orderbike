{
 "cells": [
  {
   "cell_type": "code",
   "execution_count": 1,
   "metadata": {},
   "outputs": [],
   "source": [
    "import networkx as nx\n",
    "import os\n",
    "import json\n",
    "import pathlib\n",
    "import tqdm"
   ]
  },
  {
   "cell_type": "code",
   "execution_count": 2,
   "metadata": {},
   "outputs": [],
   "source": [
    "def _init_graph(G, growth_steps, built=True):\n",
    "    if built:\n",
    "        init_edges = [edge for edge in G.edges if G.edges[edge][\"built\"] == 1]\n",
    "    # Find initial edges if not built by finding the ones that are not on the growth steps. Supposedly it's a single random edge from the highest closeness node, see growth.order_network_growth\n",
    "    else:\n",
    "        init_edges = [edge for edge in G.edges if edge not in growth_steps]\n",
    "    return G.edge_subgraph(init_edges)"
   ]
  },
  {
   "cell_type": "code",
   "execution_count": 3,
   "metadata": {},
   "outputs": [
    {
     "name": "stderr",
     "output_type": "stream",
     "text": [
      "  0%|          | 0/4 [00:00<?, ?it/s]"
     ]
    },
    {
     "name": "stdout",
     "output_type": "stream",
     "text": [
      "radio_concentric\n"
     ]
    },
    {
     "name": "stderr",
     "output_type": "stream",
     "text": [
      " 25%|██▌       | 1/4 [00:43<02:11, 43.93s/it]"
     ]
    },
    {
     "name": "stdout",
     "output_type": "stream",
     "text": [
      "grid\n"
     ]
    },
    {
     "name": "stderr",
     "output_type": "stream",
     "text": [
      " 50%|█████     | 2/4 [05:05<05:43, 171.74s/it]"
     ]
    },
    {
     "name": "stdout",
     "output_type": "stream",
     "text": [
      "grid_with_diagonal\n"
     ]
    },
    {
     "name": "stderr",
     "output_type": "stream",
     "text": [
      " 75%|███████▌  | 3/4 [07:04<02:27, 147.85s/it]"
     ]
    },
    {
     "name": "stdout",
     "output_type": "stream",
     "text": [
      "three_bridges\n"
     ]
    },
    {
     "name": "stderr",
     "output_type": "stream",
     "text": [
      "100%|██████████| 4/4 [09:05<00:00, 136.32s/it]\n"
     ]
    }
   ],
   "source": [
    "for graphname in tqdm.tqdm(\n",
    "    [\"radio_concentric\", \"grid\", \"grid_with_diagonal\", \"three_bridges\"]\n",
    "):\n",
    "    print(f\"{graphname}\")\n",
    "    folderoots = f\"../data/processed/ignored_files/paper/{graphname}/\"\n",
    "    if not os.path.exists(folderoots + \"plots/\"):\n",
    "        os.makedirs(folderoots + \"plots/\")\n",
    "    # Open for all toy graphs\n",
    "    toy_graph_aucs = []\n",
    "    # Open for all growth strategies for a toy graph\n",
    "    G = nx.read_graphml(folderoots + \"graph.graphml\")\n",
    "    for growth_f in [\n",
    "        fold\n",
    "        for fold in pathlib.Path(folderoots).iterdir()\n",
    "        if not fold.is_file()\n",
    "        and \"plot\" not in str(fold)\n",
    "        and \".DS_Store\" not in str(fold)\n",
    "        and \"manual\" not in str(fold)\n",
    "    ]:\n",
    "        growthname = str(growth_f).split(\"/\")[-1].removesuffix(\"_connected\")\n",
    "        if \"additive\" in growthname:\n",
    "            order = \"additive\"\n",
    "        elif \"subtractive\" in growthname:\n",
    "            order = \"subtractive\"\n",
    "        met_name = \"_\".join(growthname.split(\"_\")[:-1])\n",
    "        for trial in sorted(\n",
    "            [fold for fold in pathlib.Path(growth_f).iterdir() if \"order\" in str(fold)]\n",
    "        ):\n",
    "            with open(trial, \"r\") as f:\n",
    "                order_dict = json.load(f)\n",
    "            order_dict = [tuple(val) for val in order_dict]\n",
    "            G_init = _init_graph(G, order_dict, built=False)\n",
    "            actual_edges = list(G_init.edges)\n",
    "            for edge in order_dict:\n",
    "                actual_edges.append(edge)\n",
    "                G_actual = G.edge_subgraph(actual_edges)\n",
    "                if nx.number_connected_components(G_actual) > 1:\n",
    "                    print(f\"Issue with {trial}\")"
   ]
  },
  {
   "cell_type": "code",
   "execution_count": null,
   "metadata": {},
   "outputs": [],
   "source": []
  }
 ],
 "metadata": {
  "kernelspec": {
   "display_name": "orderbike",
   "language": "python",
   "name": "python3"
  },
  "language_info": {
   "codemirror_mode": {
    "name": "ipython",
    "version": 3
   },
   "file_extension": ".py",
   "mimetype": "text/x-python",
   "name": "python",
   "nbconvert_exporter": "python",
   "pygments_lexer": "ipython3",
   "version": "3.12.2"
  }
 },
 "nbformat": 4,
 "nbformat_minor": 2
}
