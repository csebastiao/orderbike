{
 "cells": [
  {
   "cell_type": "code",
   "execution_count": 11,
   "id": "8a50467a",
   "metadata": {},
   "outputs": [],
   "source": [
    "import numpy as np\n",
    "from orderbike.metrics import (\n",
    "    directness,\n",
    "    _avoid_zerodiv_matrix,\n",
    "    get_euclidean_distance_matrix,\n",
    ")\n",
    "import igraph as ig\n",
    "from utg import create_graph\n",
    "from time import time"
   ]
  },
  {
   "cell_type": "code",
   "execution_count": 2,
   "id": "4d90328b",
   "metadata": {},
   "outputs": [],
   "source": [
    "G = create_graph.create_grid_graph(rows=50, cols=50, width=100)"
   ]
  },
  {
   "cell_type": "code",
   "execution_count": 3,
   "id": "6fd1ceb5",
   "metadata": {},
   "outputs": [
    {
     "name": "stdout",
     "output_type": "stream",
     "text": [
      "0.7943208618872969 80.72443008422852\n"
     ]
    }
   ],
   "source": [
    "beg = time()\n",
    "directness(G, 0)\n",
    "print(directness(G, 0), time() - beg)"
   ]
  },
  {
   "cell_type": "code",
   "execution_count": 4,
   "id": "dcf6099f",
   "metadata": {},
   "outputs": [],
   "source": [
    "g = ig.Graph.from_networkx(G)"
   ]
  },
  {
   "cell_type": "code",
   "execution_count": 14,
   "id": "e8a69a49",
   "metadata": {},
   "outputs": [
    {
     "name": "stdout",
     "output_type": "stream",
     "text": [
      "0.7943208618872969 26.604752779006958\n"
     ]
    }
   ],
   "source": [
    "beg = time()\n",
    "g = ig.Graph.from_networkx(G)\n",
    "shortest_matrix = np.array(\n",
    "    g.distances(source=None, target=None, weights=\"length\", mode=\"all\")\n",
    ")\n",
    "mat = _avoid_zerodiv_matrix(get_euclidean_distance_matrix(G), shortest_matrix)\n",
    "d = np.sum(mat) / np.count_nonzero(mat)\n",
    "print(d, time() - beg)"
   ]
  },
  {
   "cell_type": "code",
   "execution_count": null,
   "id": "cfae3c08",
   "metadata": {},
   "outputs": [],
   "source": []
  }
 ],
 "metadata": {
  "kernelspec": {
   "display_name": "orderbike",
   "language": "python",
   "name": "python3"
  },
  "language_info": {
   "codemirror_mode": {
    "name": "ipython",
    "version": 3
   },
   "file_extension": ".py",
   "mimetype": "text/x-python",
   "name": "python",
   "nbconvert_exporter": "python",
   "pygments_lexer": "ipython3",
   "version": "3.12.10"
  }
 },
 "nbformat": 4,
 "nbformat_minor": 5
}
