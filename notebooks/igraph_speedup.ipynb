{
 "cells": [
  {
   "cell_type": "code",
   "execution_count": 9,
   "id": "8a50467a",
   "metadata": {},
   "outputs": [],
   "source": [
    "import orderbike.metrics as met\n",
    "import igraph as ig\n",
    "from utg import create_graph\n",
    "from time import time\n",
    "import shapely\n",
    "import osmnx as ox"
   ]
  },
  {
   "cell_type": "code",
   "execution_count": 10,
   "id": "4d90328b",
   "metadata": {},
   "outputs": [],
   "source": [
    "G = create_graph.create_grid_graph(rows=50, cols=50, width=100, multidigraph=True)\n",
    "G.graph[\"crs\"] = \"epsg:3857\""
   ]
  },
  {
   "cell_type": "code",
   "execution_count": 11,
   "id": "214c85c2",
   "metadata": {},
   "outputs": [
    {
     "data": {
      "text/plain": [
       "1.767979081471761"
      ]
     },
     "execution_count": 11,
     "metadata": {},
     "output_type": "execute_result"
    }
   ],
   "source": [
    "timelist = []\n",
    "for i in range(30):\n",
    "    beg = time()\n",
    "    coverage = shapely.unary_union(\n",
    "        [[G.edges[edge][\"geometry\"].buffer(152)] for edge in G.edges]\n",
    "    ).area\n",
    "    timelist.append(time() - beg)\n",
    "sum(timelist) / len(timelist)"
   ]
  },
  {
   "cell_type": "code",
   "execution_count": 12,
   "id": "e1b69c85",
   "metadata": {},
   "outputs": [
    {
     "data": {
      "text/plain": [
       "1.3820098161697387"
      ]
     },
     "execution_count": 12,
     "metadata": {},
     "output_type": "execute_result"
    }
   ],
   "source": [
    "timelist = []\n",
    "for i in range(30):\n",
    "    beg = time()\n",
    "    gdf = ox.graph_to_gdfs(G, nodes=False, edges=True)\n",
    "    coverage = gdf.geometry.buffer(152).union_all().area\n",
    "    timelist.append(time() - beg)\n",
    "sum(timelist) / len(timelist)"
   ]
  },
  {
   "cell_type": "code",
   "execution_count": null,
   "id": "d2bd3920",
   "metadata": {},
   "outputs": [],
   "source": [
    "edgelist = [G.edges[edge][\"geometry\"].buffer(152) for edge in G.edges]"
   ]
  },
  {
   "cell_type": "code",
   "execution_count": null,
   "id": "ccab746c",
   "metadata": {},
   "outputs": [],
   "source": [
    "edgelist = [G.edges[edge][\"geometry\"].buffer(152) for edge in G.edges]\n",
    "for e in edgelist:\n",
    "    temp = edgelist.copy()\n",
    "    temp.pop(e)\n",
    "    shapely.unary_union(temp).area"
   ]
  },
  {
   "cell_type": "code",
   "execution_count": null,
   "id": "508ed06f",
   "metadata": {},
   "outputs": [
    {
     "data": {
      "text/plain": [
       "13.659820795059204"
      ]
     },
     "execution_count": 48,
     "metadata": {},
     "output_type": "execute_result"
    }
   ],
   "source": [
    "beg = time()\n",
    "shortest_matrix = met.get_shortest_network_path_length_matrix_deprecated(\n",
    "    G, weight=\"length\"\n",
    ")\n",
    "time() - beg"
   ]
  },
  {
   "cell_type": "code",
   "execution_count": null,
   "id": "e8a69a49",
   "metadata": {},
   "outputs": [
    {
     "data": {
      "text/plain": [
       "1.3611948490142822"
      ]
     },
     "execution_count": 49,
     "metadata": {},
     "output_type": "execute_result"
    }
   ],
   "source": [
    "beg = time()\n",
    "g = ig.Graph.from_networkx(G)\n",
    "shortest_matrix = met.get_shortest_network_path_length_matrix(G, weight=\"length\")\n",
    "time() - beg"
   ]
  },
  {
   "cell_type": "code",
   "execution_count": null,
   "id": "cfae3c08",
   "metadata": {},
   "outputs": [
    {
     "data": {
      "text/plain": [
       "23.697813034057617"
      ]
     },
     "execution_count": 50,
     "metadata": {},
     "output_type": "execute_result"
    }
   ],
   "source": [
    "beg = time()\n",
    "euclidean_matrix = met.get_euclidean_distance_matrix(G, lonlat=False)\n",
    "time() - beg"
   ]
  },
  {
   "cell_type": "code",
   "execution_count": null,
   "id": "1a6bf9ff",
   "metadata": {},
   "outputs": [
    {
     "data": {
      "text/plain": [
       "0.14643001556396484"
      ]
     },
     "execution_count": 51,
     "metadata": {},
     "output_type": "execute_result"
    }
   ],
   "source": [
    "beg = time()\n",
    "dist = met.get_euclidean_distance_matrix(G, lonlat=False)\n",
    "time() - beg"
   ]
  }
 ],
 "metadata": {
  "kernelspec": {
   "display_name": "orderbike",
   "language": "python",
   "name": "python3"
  },
  "language_info": {
   "codemirror_mode": {
    "name": "ipython",
    "version": 3
   },
   "file_extension": ".py",
   "mimetype": "text/x-python",
   "name": "python",
   "nbconvert_exporter": "python",
   "pygments_lexer": "ipython3",
   "version": "3.12.10"
  }
 },
 "nbformat": 4,
 "nbformat_minor": 5
}
