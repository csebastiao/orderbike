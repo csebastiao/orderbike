{
 "cells": [
  {
   "cell_type": "code",
   "execution_count": 76,
   "metadata": {},
   "outputs": [],
   "source": [
    "import numpy as np\n",
    "import pandas as pd"
   ]
  },
  {
   "cell_type": "code",
   "execution_count": 77,
   "metadata": {},
   "outputs": [],
   "source": [
    "grdf = pd.read_json(\n",
    "    \"../data/processed/ignored_files/utg/single_bridge/auc_table_growth.json\"\n",
    ")\n",
    "radf = pd.read_json(\n",
    "    \"../data/processed/ignored_files/utg/single_bridge/auc_table_random.json\"\n",
    ")"
   ]
  },
  {
   "cell_type": "markdown",
   "metadata": {},
   "source": [
    "Basic sum of both Coverage and Directness AUCs"
   ]
  },
  {
   "cell_type": "code",
   "execution_count": 78,
   "metadata": {},
   "outputs": [
    {
     "data": {
      "text/html": [
       "<div>\n",
       "<style scoped>\n",
       "    .dataframe tbody tr th:only-of-type {\n",
       "        vertical-align: middle;\n",
       "    }\n",
       "\n",
       "    .dataframe tbody tr th {\n",
       "        vertical-align: top;\n",
       "    }\n",
       "\n",
       "    .dataframe thead th {\n",
       "        text-align: right;\n",
       "    }\n",
       "</style>\n",
       "<table border=\"1\" class=\"dataframe\">\n",
       "  <thead>\n",
       "    <tr style=\"text-align: right;\">\n",
       "      <th></th>\n",
       "      <th>Metric optimized</th>\n",
       "      <th>Order</th>\n",
       "      <th>AUC of Coverage</th>\n",
       "      <th>AUC of Directness</th>\n",
       "      <th>AUC of Relative Directness</th>\n",
       "      <th>sum</th>\n",
       "    </tr>\n",
       "  </thead>\n",
       "  <tbody>\n",
       "    <tr>\n",
       "      <th>4</th>\n",
       "      <td>relative_directness</td>\n",
       "      <td>additive</td>\n",
       "      <td>0.809037</td>\n",
       "      <td>0.776743</td>\n",
       "      <td>0.979893</td>\n",
       "      <td>1.58578</td>\n",
       "    </tr>\n",
       "  </tbody>\n",
       "</table>\n",
       "</div>"
      ],
      "text/plain": [
       "      Metric optimized     Order  AUC of Coverage  AUC of Directness  \\\n",
       "4  relative_directness  additive         0.809037           0.776743   \n",
       "\n",
       "   AUC of Relative Directness      sum  \n",
       "4                    0.979893  1.58578  "
      ]
     },
     "execution_count": 78,
     "metadata": {},
     "output_type": "execute_result"
    }
   ],
   "source": [
    "grdf[\"sum\"] = grdf[\"AUC of Coverage\"] + grdf[\"AUC of Directness\"]\n",
    "grdf[grdf[\"sum\"] == max(grdf[\"sum\"])]"
   ]
  },
  {
   "cell_type": "code",
   "execution_count": 79,
   "metadata": {},
   "outputs": [
    {
     "data": {
      "text/html": [
       "<div>\n",
       "<style scoped>\n",
       "    .dataframe tbody tr th:only-of-type {\n",
       "        vertical-align: middle;\n",
       "    }\n",
       "\n",
       "    .dataframe tbody tr th {\n",
       "        vertical-align: top;\n",
       "    }\n",
       "\n",
       "    .dataframe thead th {\n",
       "        text-align: right;\n",
       "    }\n",
       "</style>\n",
       "<table border=\"1\" class=\"dataframe\">\n",
       "  <thead>\n",
       "    <tr style=\"text-align: right;\">\n",
       "      <th></th>\n",
       "      <th>Metric optimized</th>\n",
       "      <th>Order</th>\n",
       "      <th>AUC of Coverage</th>\n",
       "      <th>AUC of Directness</th>\n",
       "      <th>AUC of Relative Directness</th>\n",
       "      <th>sum</th>\n",
       "    </tr>\n",
       "  </thead>\n",
       "  <tbody>\n",
       "    <tr>\n",
       "      <th>1539</th>\n",
       "      <td>random</td>\n",
       "      <td>subtractive</td>\n",
       "      <td>0.778527</td>\n",
       "      <td>0.726405</td>\n",
       "      <td>0.924992</td>\n",
       "      <td>1.504932</td>\n",
       "    </tr>\n",
       "  </tbody>\n",
       "</table>\n",
       "</div>"
      ],
      "text/plain": [
       "     Metric optimized        Order  AUC of Coverage  AUC of Directness  \\\n",
       "1539           random  subtractive         0.778527           0.726405   \n",
       "\n",
       "      AUC of Relative Directness       sum  \n",
       "1539                    0.924992  1.504932  "
      ]
     },
     "execution_count": 79,
     "metadata": {},
     "output_type": "execute_result"
    }
   ],
   "source": [
    "radf[\"sum\"] = radf[\"AUC of Coverage\"] + radf[\"AUC of Directness\"]\n",
    "radf[radf[\"sum\"] == max(radf[\"sum\"])]"
   ]
  },
  {
   "cell_type": "code",
   "execution_count": 80,
   "metadata": {},
   "outputs": [
    {
     "data": {
      "text/plain": [
       "-0.053722012776831335"
      ]
     },
     "execution_count": 80,
     "metadata": {},
     "output_type": "execute_result"
    }
   ],
   "source": [
    "(max(radf[\"sum\"]) - max(grdf[\"sum\"])) / max(radf[\"sum\"])"
   ]
  },
  {
   "cell_type": "markdown",
   "metadata": {},
   "source": [
    "Look at increase from the mean instead of absolute value"
   ]
  },
  {
   "cell_type": "code",
   "execution_count": 81,
   "metadata": {},
   "outputs": [
    {
     "name": "stdout",
     "output_type": "stream",
     "text": [
      "0.7288272594411531 0.682803657327833\n"
     ]
    }
   ],
   "source": [
    "mean_cov = np.mean(\n",
    "    list(radf[\"AUC of Coverage\"].values) + list(grdf[\"AUC of Coverage\"].values)\n",
    ")\n",
    "mean_dir = np.mean(\n",
    "    list(radf[\"AUC of Directness\"].values) + list(grdf[\"AUC of Directness\"].values)\n",
    ")\n",
    "print(mean_cov, mean_dir)"
   ]
  },
  {
   "cell_type": "code",
   "execution_count": 82,
   "metadata": {},
   "outputs": [
    {
     "data": {
      "text/html": [
       "<div>\n",
       "<style scoped>\n",
       "    .dataframe tbody tr th:only-of-type {\n",
       "        vertical-align: middle;\n",
       "    }\n",
       "\n",
       "    .dataframe tbody tr th {\n",
       "        vertical-align: top;\n",
       "    }\n",
       "\n",
       "    .dataframe thead th {\n",
       "        text-align: right;\n",
       "    }\n",
       "</style>\n",
       "<table border=\"1\" class=\"dataframe\">\n",
       "  <thead>\n",
       "    <tr style=\"text-align: right;\">\n",
       "      <th></th>\n",
       "      <th>Metric optimized</th>\n",
       "      <th>Order</th>\n",
       "      <th>AUC of Coverage</th>\n",
       "      <th>AUC of Directness</th>\n",
       "      <th>AUC of Relative Directness</th>\n",
       "      <th>sum</th>\n",
       "      <th>sm_sum</th>\n",
       "    </tr>\n",
       "  </thead>\n",
       "  <tbody>\n",
       "    <tr>\n",
       "      <th>4</th>\n",
       "      <td>relative_directness</td>\n",
       "      <td>additive</td>\n",
       "      <td>0.809037</td>\n",
       "      <td>0.776743</td>\n",
       "      <td>0.979893</td>\n",
       "      <td>1.58578</td>\n",
       "      <td>0.174149</td>\n",
       "    </tr>\n",
       "  </tbody>\n",
       "</table>\n",
       "</div>"
      ],
      "text/plain": [
       "      Metric optimized     Order  AUC of Coverage  AUC of Directness  \\\n",
       "4  relative_directness  additive         0.809037           0.776743   \n",
       "\n",
       "   AUC of Relative Directness      sum    sm_sum  \n",
       "4                    0.979893  1.58578  0.174149  "
      ]
     },
     "execution_count": 82,
     "metadata": {},
     "output_type": "execute_result"
    }
   ],
   "source": [
    "grdf[\"sm_sum\"] = (grdf[\"AUC of Coverage\"] - mean_cov) + (\n",
    "    grdf[\"AUC of Directness\"] - mean_dir\n",
    ")\n",
    "grdf[grdf[\"sm_sum\"] == max(grdf[\"sm_sum\"])]"
   ]
  },
  {
   "cell_type": "code",
   "execution_count": 83,
   "metadata": {},
   "outputs": [
    {
     "data": {
      "text/html": [
       "<div>\n",
       "<style scoped>\n",
       "    .dataframe tbody tr th:only-of-type {\n",
       "        vertical-align: middle;\n",
       "    }\n",
       "\n",
       "    .dataframe tbody tr th {\n",
       "        vertical-align: top;\n",
       "    }\n",
       "\n",
       "    .dataframe thead th {\n",
       "        text-align: right;\n",
       "    }\n",
       "</style>\n",
       "<table border=\"1\" class=\"dataframe\">\n",
       "  <thead>\n",
       "    <tr style=\"text-align: right;\">\n",
       "      <th></th>\n",
       "      <th>Metric optimized</th>\n",
       "      <th>Order</th>\n",
       "      <th>AUC of Coverage</th>\n",
       "      <th>AUC of Directness</th>\n",
       "      <th>AUC of Relative Directness</th>\n",
       "      <th>sum</th>\n",
       "      <th>sm_sum</th>\n",
       "    </tr>\n",
       "  </thead>\n",
       "  <tbody>\n",
       "    <tr>\n",
       "      <th>1539</th>\n",
       "      <td>random</td>\n",
       "      <td>subtractive</td>\n",
       "      <td>0.778527</td>\n",
       "      <td>0.726405</td>\n",
       "      <td>0.924992</td>\n",
       "      <td>1.504932</td>\n",
       "      <td>0.093301</td>\n",
       "    </tr>\n",
       "  </tbody>\n",
       "</table>\n",
       "</div>"
      ],
      "text/plain": [
       "     Metric optimized        Order  AUC of Coverage  AUC of Directness  \\\n",
       "1539           random  subtractive         0.778527           0.726405   \n",
       "\n",
       "      AUC of Relative Directness       sum    sm_sum  \n",
       "1539                    0.924992  1.504932  0.093301  "
      ]
     },
     "execution_count": 83,
     "metadata": {},
     "output_type": "execute_result"
    }
   ],
   "source": [
    "radf[\"sm_sum\"] = (radf[\"AUC of Coverage\"] - mean_cov) + (\n",
    "    radf[\"AUC of Directness\"] - mean_dir\n",
    ")\n",
    "radf[radf[\"sm_sum\"] == max(radf[\"sm_sum\"])]"
   ]
  },
  {
   "cell_type": "code",
   "execution_count": 84,
   "metadata": {},
   "outputs": [
    {
     "data": {
      "text/plain": [
       "-0.8665302192424068"
      ]
     },
     "execution_count": 84,
     "metadata": {},
     "output_type": "execute_result"
    }
   ],
   "source": [
    "(max(radf[\"sm_sum\"]) - max(grdf[\"sm_sum\"])) / max(radf[\"sm_sum\"])"
   ]
  },
  {
   "cell_type": "markdown",
   "metadata": {},
   "source": [
    "Look at the ratio from the mean instead of absolute distance from the mean"
   ]
  },
  {
   "cell_type": "code",
   "execution_count": 85,
   "metadata": {},
   "outputs": [
    {
     "data": {
      "text/html": [
       "<div>\n",
       "<style scoped>\n",
       "    .dataframe tbody tr th:only-of-type {\n",
       "        vertical-align: middle;\n",
       "    }\n",
       "\n",
       "    .dataframe tbody tr th {\n",
       "        vertical-align: top;\n",
       "    }\n",
       "\n",
       "    .dataframe thead th {\n",
       "        text-align: right;\n",
       "    }\n",
       "</style>\n",
       "<table border=\"1\" class=\"dataframe\">\n",
       "  <thead>\n",
       "    <tr style=\"text-align: right;\">\n",
       "      <th></th>\n",
       "      <th>Metric optimized</th>\n",
       "      <th>Order</th>\n",
       "      <th>AUC of Coverage</th>\n",
       "      <th>AUC of Directness</th>\n",
       "      <th>AUC of Relative Directness</th>\n",
       "      <th>sum</th>\n",
       "      <th>sm_sum</th>\n",
       "      <th>wm_sum</th>\n",
       "    </tr>\n",
       "  </thead>\n",
       "  <tbody>\n",
       "    <tr>\n",
       "      <th>4</th>\n",
       "      <td>relative_directness</td>\n",
       "      <td>additive</td>\n",
       "      <td>0.809037</td>\n",
       "      <td>0.776743</td>\n",
       "      <td>0.979893</td>\n",
       "      <td>1.58578</td>\n",
       "      <td>0.174149</td>\n",
       "      <td>0.247632</td>\n",
       "    </tr>\n",
       "  </tbody>\n",
       "</table>\n",
       "</div>"
      ],
      "text/plain": [
       "      Metric optimized     Order  AUC of Coverage  AUC of Directness  \\\n",
       "4  relative_directness  additive         0.809037           0.776743   \n",
       "\n",
       "   AUC of Relative Directness      sum    sm_sum    wm_sum  \n",
       "4                    0.979893  1.58578  0.174149  0.247632  "
      ]
     },
     "execution_count": 85,
     "metadata": {},
     "output_type": "execute_result"
    }
   ],
   "source": [
    "grdf[\"wm_sum\"] = (grdf[\"AUC of Coverage\"] - mean_cov) / mean_cov + (\n",
    "    grdf[\"AUC of Directness\"] - mean_dir\n",
    ") / mean_dir\n",
    "grdf[grdf[\"wm_sum\"] == max(grdf[\"wm_sum\"])]"
   ]
  },
  {
   "cell_type": "code",
   "execution_count": 86,
   "metadata": {},
   "outputs": [
    {
     "data": {
      "text/html": [
       "<div>\n",
       "<style scoped>\n",
       "    .dataframe tbody tr th:only-of-type {\n",
       "        vertical-align: middle;\n",
       "    }\n",
       "\n",
       "    .dataframe tbody tr th {\n",
       "        vertical-align: top;\n",
       "    }\n",
       "\n",
       "    .dataframe thead th {\n",
       "        text-align: right;\n",
       "    }\n",
       "</style>\n",
       "<table border=\"1\" class=\"dataframe\">\n",
       "  <thead>\n",
       "    <tr style=\"text-align: right;\">\n",
       "      <th></th>\n",
       "      <th>Metric optimized</th>\n",
       "      <th>Order</th>\n",
       "      <th>AUC of Coverage</th>\n",
       "      <th>AUC of Directness</th>\n",
       "      <th>AUC of Relative Directness</th>\n",
       "      <th>sum</th>\n",
       "      <th>sm_sum</th>\n",
       "      <th>wm_sum</th>\n",
       "    </tr>\n",
       "  </thead>\n",
       "  <tbody>\n",
       "    <tr>\n",
       "      <th>1539</th>\n",
       "      <td>random</td>\n",
       "      <td>subtractive</td>\n",
       "      <td>0.778527</td>\n",
       "      <td>0.726405</td>\n",
       "      <td>0.924992</td>\n",
       "      <td>1.504932</td>\n",
       "      <td>0.093301</td>\n",
       "      <td>0.132047</td>\n",
       "    </tr>\n",
       "  </tbody>\n",
       "</table>\n",
       "</div>"
      ],
      "text/plain": [
       "     Metric optimized        Order  AUC of Coverage  AUC of Directness  \\\n",
       "1539           random  subtractive         0.778527           0.726405   \n",
       "\n",
       "      AUC of Relative Directness       sum    sm_sum    wm_sum  \n",
       "1539                    0.924992  1.504932  0.093301  0.132047  "
      ]
     },
     "execution_count": 86,
     "metadata": {},
     "output_type": "execute_result"
    }
   ],
   "source": [
    "radf[\"wm_sum\"] = (radf[\"AUC of Coverage\"] - mean_cov) / mean_cov + (\n",
    "    radf[\"AUC of Directness\"] - mean_dir\n",
    ") / mean_dir\n",
    "radf[radf[\"wm_sum\"] == max(radf[\"wm_sum\"])]"
   ]
  },
  {
   "cell_type": "code",
   "execution_count": 87,
   "metadata": {},
   "outputs": [
    {
     "data": {
      "text/plain": [
       "-0.8753247558748768"
      ]
     },
     "execution_count": 87,
     "metadata": {},
     "output_type": "execute_result"
    }
   ],
   "source": [
    "(max(radf[\"wm_sum\"]) - max(grdf[\"wm_sum\"])) / max(radf[\"wm_sum\"])"
   ]
  },
  {
   "cell_type": "markdown",
   "metadata": {},
   "source": [
    "Divide by the range of values instead of the mean"
   ]
  },
  {
   "cell_type": "code",
   "execution_count": 88,
   "metadata": {},
   "outputs": [
    {
     "name": "stdout",
     "output_type": "stream",
     "text": [
      "0.2501636344 0.25400500009999993\n"
     ]
    }
   ],
   "source": [
    "max_cov = max(\n",
    "    list(radf[\"AUC of Coverage\"].values) + list(grdf[\"AUC of Coverage\"].values)\n",
    ")\n",
    "min_cov = min(\n",
    "    list(radf[\"AUC of Coverage\"].values) + list(grdf[\"AUC of Coverage\"].values)\n",
    ")\n",
    "max_dir = max(\n",
    "    list(radf[\"AUC of Directness\"].values) + list(grdf[\"AUC of Directness\"].values)\n",
    ")\n",
    "min_dir = min(\n",
    "    list(radf[\"AUC of Directness\"].values) + list(grdf[\"AUC of Directness\"].values)\n",
    ")\n",
    "print(max_cov - min_cov, max_dir - min_dir)"
   ]
  },
  {
   "cell_type": "code",
   "execution_count": 89,
   "metadata": {},
   "outputs": [
    {
     "name": "stdout",
     "output_type": "stream",
     "text": [
      "0.7094300483 0.70243641755\n"
     ]
    }
   ],
   "source": [
    "mid_cov = (max_cov + min_cov) / 2\n",
    "mid_dir = (max_dir + min_dir) / 2\n",
    "print(mid_cov, mid_dir)"
   ]
  },
  {
   "cell_type": "code",
   "execution_count": 90,
   "metadata": {},
   "outputs": [
    {
     "data": {
      "text/html": [
       "<div>\n",
       "<style scoped>\n",
       "    .dataframe tbody tr th:only-of-type {\n",
       "        vertical-align: middle;\n",
       "    }\n",
       "\n",
       "    .dataframe tbody tr th {\n",
       "        vertical-align: top;\n",
       "    }\n",
       "\n",
       "    .dataframe thead th {\n",
       "        text-align: right;\n",
       "    }\n",
       "</style>\n",
       "<table border=\"1\" class=\"dataframe\">\n",
       "  <thead>\n",
       "    <tr style=\"text-align: right;\">\n",
       "      <th></th>\n",
       "      <th>Metric optimized</th>\n",
       "      <th>Order</th>\n",
       "      <th>AUC of Coverage</th>\n",
       "      <th>AUC of Directness</th>\n",
       "      <th>AUC of Relative Directness</th>\n",
       "      <th>sum</th>\n",
       "      <th>sm_sum</th>\n",
       "      <th>wm_sum</th>\n",
       "      <th>wi_sum</th>\n",
       "    </tr>\n",
       "  </thead>\n",
       "  <tbody>\n",
       "    <tr>\n",
       "      <th>4</th>\n",
       "      <td>relative_directness</td>\n",
       "      <td>additive</td>\n",
       "      <td>0.809037</td>\n",
       "      <td>0.776743</td>\n",
       "      <td>0.979893</td>\n",
       "      <td>1.58578</td>\n",
       "      <td>0.174149</td>\n",
       "      <td>0.247632</td>\n",
       "      <td>0.246188</td>\n",
       "    </tr>\n",
       "  </tbody>\n",
       "</table>\n",
       "</div>"
      ],
      "text/plain": [
       "      Metric optimized     Order  AUC of Coverage  AUC of Directness  \\\n",
       "4  relative_directness  additive         0.809037           0.776743   \n",
       "\n",
       "   AUC of Relative Directness      sum    sm_sum    wm_sum    wi_sum  \n",
       "4                    0.979893  1.58578  0.174149  0.247632  0.246188  "
      ]
     },
     "execution_count": 90,
     "metadata": {},
     "output_type": "execute_result"
    }
   ],
   "source": [
    "grdf[\"wi_sum\"] = (grdf[\"AUC of Coverage\"] - mid_cov) / mid_cov + (\n",
    "    grdf[\"AUC of Directness\"] - mid_dir\n",
    ") / mid_dir\n",
    "grdf[grdf[\"wi_sum\"] == max(grdf[\"wi_sum\"])]"
   ]
  },
  {
   "cell_type": "code",
   "execution_count": 91,
   "metadata": {},
   "outputs": [
    {
     "data": {
      "text/html": [
       "<div>\n",
       "<style scoped>\n",
       "    .dataframe tbody tr th:only-of-type {\n",
       "        vertical-align: middle;\n",
       "    }\n",
       "\n",
       "    .dataframe tbody tr th {\n",
       "        vertical-align: top;\n",
       "    }\n",
       "\n",
       "    .dataframe thead th {\n",
       "        text-align: right;\n",
       "    }\n",
       "</style>\n",
       "<table border=\"1\" class=\"dataframe\">\n",
       "  <thead>\n",
       "    <tr style=\"text-align: right;\">\n",
       "      <th></th>\n",
       "      <th>Metric optimized</th>\n",
       "      <th>Order</th>\n",
       "      <th>AUC of Coverage</th>\n",
       "      <th>AUC of Directness</th>\n",
       "      <th>AUC of Relative Directness</th>\n",
       "      <th>sum</th>\n",
       "      <th>sm_sum</th>\n",
       "      <th>wm_sum</th>\n",
       "      <th>wi_sum</th>\n",
       "    </tr>\n",
       "  </thead>\n",
       "  <tbody>\n",
       "    <tr>\n",
       "      <th>1539</th>\n",
       "      <td>random</td>\n",
       "      <td>subtractive</td>\n",
       "      <td>0.778527</td>\n",
       "      <td>0.726405</td>\n",
       "      <td>0.924992</td>\n",
       "      <td>1.504932</td>\n",
       "      <td>0.093301</td>\n",
       "      <td>0.132047</td>\n",
       "      <td>0.131519</td>\n",
       "    </tr>\n",
       "  </tbody>\n",
       "</table>\n",
       "</div>"
      ],
      "text/plain": [
       "     Metric optimized        Order  AUC of Coverage  AUC of Directness  \\\n",
       "1539           random  subtractive         0.778527           0.726405   \n",
       "\n",
       "      AUC of Relative Directness       sum    sm_sum    wm_sum    wi_sum  \n",
       "1539                    0.924992  1.504932  0.093301  0.132047  0.131519  "
      ]
     },
     "execution_count": 91,
     "metadata": {},
     "output_type": "execute_result"
    }
   ],
   "source": [
    "radf[\"wi_sum\"] = (radf[\"AUC of Coverage\"] - mid_cov) / mid_cov + (\n",
    "    radf[\"AUC of Directness\"] - mid_dir\n",
    ") / mid_dir\n",
    "radf[radf[\"wi_sum\"] == max(radf[\"wi_sum\"])]"
   ]
  },
  {
   "cell_type": "code",
   "execution_count": 92,
   "metadata": {},
   "outputs": [
    {
     "data": {
      "text/plain": [
       "-0.8718730776629752"
      ]
     },
     "execution_count": 92,
     "metadata": {},
     "output_type": "execute_result"
    }
   ],
   "source": [
    "(max(radf[\"wi_sum\"]) - max(grdf[\"wi_sum\"])) / max(radf[\"wi_sum\"])"
   ]
  },
  {
   "cell_type": "markdown",
   "metadata": {},
   "source": [
    "Incorporate the Relative Directness"
   ]
  },
  {
   "cell_type": "code",
   "execution_count": 93,
   "metadata": {},
   "outputs": [
    {
     "data": {
      "text/html": [
       "<div>\n",
       "<style scoped>\n",
       "    .dataframe tbody tr th:only-of-type {\n",
       "        vertical-align: middle;\n",
       "    }\n",
       "\n",
       "    .dataframe tbody tr th {\n",
       "        vertical-align: top;\n",
       "    }\n",
       "\n",
       "    .dataframe thead th {\n",
       "        text-align: right;\n",
       "    }\n",
       "</style>\n",
       "<table border=\"1\" class=\"dataframe\">\n",
       "  <thead>\n",
       "    <tr style=\"text-align: right;\">\n",
       "      <th></th>\n",
       "      <th>Metric optimized</th>\n",
       "      <th>Order</th>\n",
       "      <th>AUC of Coverage</th>\n",
       "      <th>AUC of Directness</th>\n",
       "      <th>AUC of Relative Directness</th>\n",
       "      <th>sum</th>\n",
       "      <th>sm_sum</th>\n",
       "      <th>wm_sum</th>\n",
       "      <th>wi_sum</th>\n",
       "      <th>fsum</th>\n",
       "    </tr>\n",
       "  </thead>\n",
       "  <tbody>\n",
       "    <tr>\n",
       "      <th>4</th>\n",
       "      <td>relative_directness</td>\n",
       "      <td>additive</td>\n",
       "      <td>0.809037</td>\n",
       "      <td>0.776743</td>\n",
       "      <td>0.979893</td>\n",
       "      <td>1.58578</td>\n",
       "      <td>0.174149</td>\n",
       "      <td>0.247632</td>\n",
       "      <td>0.246188</td>\n",
       "      <td>2.565673</td>\n",
       "    </tr>\n",
       "  </tbody>\n",
       "</table>\n",
       "</div>"
      ],
      "text/plain": [
       "      Metric optimized     Order  AUC of Coverage  AUC of Directness  \\\n",
       "4  relative_directness  additive         0.809037           0.776743   \n",
       "\n",
       "   AUC of Relative Directness      sum    sm_sum    wm_sum    wi_sum      fsum  \n",
       "4                    0.979893  1.58578  0.174149  0.247632  0.246188  2.565673  "
      ]
     },
     "execution_count": 93,
     "metadata": {},
     "output_type": "execute_result"
    }
   ],
   "source": [
    "grdf[\"fsum\"] = (\n",
    "    grdf[\"AUC of Coverage\"]\n",
    "    + grdf[\"AUC of Directness\"]\n",
    "    + grdf[\"AUC of Relative Directness\"]\n",
    ")\n",
    "grdf[grdf[\"fsum\"] == max(grdf[\"fsum\"])]"
   ]
  },
  {
   "cell_type": "code",
   "execution_count": 94,
   "metadata": {},
   "outputs": [
    {
     "data": {
      "text/html": [
       "<div>\n",
       "<style scoped>\n",
       "    .dataframe tbody tr th:only-of-type {\n",
       "        vertical-align: middle;\n",
       "    }\n",
       "\n",
       "    .dataframe tbody tr th {\n",
       "        vertical-align: top;\n",
       "    }\n",
       "\n",
       "    .dataframe thead th {\n",
       "        text-align: right;\n",
       "    }\n",
       "</style>\n",
       "<table border=\"1\" class=\"dataframe\">\n",
       "  <thead>\n",
       "    <tr style=\"text-align: right;\">\n",
       "      <th></th>\n",
       "      <th>Metric optimized</th>\n",
       "      <th>Order</th>\n",
       "      <th>AUC of Coverage</th>\n",
       "      <th>AUC of Directness</th>\n",
       "      <th>AUC of Relative Directness</th>\n",
       "      <th>sum</th>\n",
       "      <th>sm_sum</th>\n",
       "      <th>wm_sum</th>\n",
       "      <th>wi_sum</th>\n",
       "      <th>fsum</th>\n",
       "    </tr>\n",
       "  </thead>\n",
       "  <tbody>\n",
       "    <tr>\n",
       "      <th>1539</th>\n",
       "      <td>random</td>\n",
       "      <td>subtractive</td>\n",
       "      <td>0.778527</td>\n",
       "      <td>0.726405</td>\n",
       "      <td>0.924992</td>\n",
       "      <td>1.504932</td>\n",
       "      <td>0.093301</td>\n",
       "      <td>0.132047</td>\n",
       "      <td>0.131519</td>\n",
       "      <td>2.429923</td>\n",
       "    </tr>\n",
       "  </tbody>\n",
       "</table>\n",
       "</div>"
      ],
      "text/plain": [
       "     Metric optimized        Order  AUC of Coverage  AUC of Directness  \\\n",
       "1539           random  subtractive         0.778527           0.726405   \n",
       "\n",
       "      AUC of Relative Directness       sum    sm_sum    wm_sum    wi_sum  \\\n",
       "1539                    0.924992  1.504932  0.093301  0.132047  0.131519   \n",
       "\n",
       "          fsum  \n",
       "1539  2.429923  "
      ]
     },
     "execution_count": 94,
     "metadata": {},
     "output_type": "execute_result"
    }
   ],
   "source": [
    "radf[\"fsum\"] = (\n",
    "    radf[\"AUC of Coverage\"]\n",
    "    + radf[\"AUC of Directness\"]\n",
    "    + radf[\"AUC of Relative Directness\"]\n",
    ")\n",
    "radf[radf[\"fsum\"] == max(radf[\"fsum\"])]"
   ]
  },
  {
   "cell_type": "markdown",
   "metadata": {},
   "source": [
    "Test weighted by the mean and removing the middle of the range"
   ]
  },
  {
   "cell_type": "code",
   "execution_count": 95,
   "metadata": {},
   "outputs": [
    {
     "data": {
      "text/plain": [
       "0.8630884523827038"
      ]
     },
     "execution_count": 95,
     "metadata": {},
     "output_type": "execute_result"
    }
   ],
   "source": [
    "mean_reldir = np.mean(\n",
    "    list(radf[\"AUC of Relative Directness\"].values)\n",
    "    + list(grdf[\"AUC of Relative Directness\"].values)\n",
    ")\n",
    "mean_reldir"
   ]
  },
  {
   "cell_type": "code",
   "execution_count": 96,
   "metadata": {},
   "outputs": [
    {
     "name": "stdout",
     "output_type": "stream",
     "text": [
      "0.2759715346 0.8608188396\n"
     ]
    }
   ],
   "source": [
    "max_reldir = max(\n",
    "    list(radf[\"AUC of Relative Directness\"].values)\n",
    "    + list(grdf[\"AUC of Relative Directness\"].values)\n",
    ")\n",
    "min_reldir = min(\n",
    "    list(radf[\"AUC of Relative Directness\"].values)\n",
    "    + list(grdf[\"AUC of Relative Directness\"].values)\n",
    ")\n",
    "mid_reldir = (max_reldir + min_reldir) / 2\n",
    "print(max_reldir - min_reldir, mid_reldir)"
   ]
  },
  {
   "cell_type": "code",
   "execution_count": 97,
   "metadata": {},
   "outputs": [
    {
     "data": {
      "text/html": [
       "<div>\n",
       "<style scoped>\n",
       "    .dataframe tbody tr th:only-of-type {\n",
       "        vertical-align: middle;\n",
       "    }\n",
       "\n",
       "    .dataframe tbody tr th {\n",
       "        vertical-align: top;\n",
       "    }\n",
       "\n",
       "    .dataframe thead th {\n",
       "        text-align: right;\n",
       "    }\n",
       "</style>\n",
       "<table border=\"1\" class=\"dataframe\">\n",
       "  <thead>\n",
       "    <tr style=\"text-align: right;\">\n",
       "      <th></th>\n",
       "      <th>Metric optimized</th>\n",
       "      <th>Order</th>\n",
       "      <th>AUC of Coverage</th>\n",
       "      <th>AUC of Directness</th>\n",
       "      <th>AUC of Relative Directness</th>\n",
       "      <th>sum</th>\n",
       "      <th>sm_sum</th>\n",
       "      <th>wm_sum</th>\n",
       "      <th>wi_sum</th>\n",
       "      <th>fsum</th>\n",
       "      <th>wm_fsum</th>\n",
       "    </tr>\n",
       "  </thead>\n",
       "  <tbody>\n",
       "    <tr>\n",
       "      <th>4</th>\n",
       "      <td>relative_directness</td>\n",
       "      <td>additive</td>\n",
       "      <td>0.809037</td>\n",
       "      <td>0.776743</td>\n",
       "      <td>0.979893</td>\n",
       "      <td>1.58578</td>\n",
       "      <td>0.174149</td>\n",
       "      <td>0.247632</td>\n",
       "      <td>0.246188</td>\n",
       "      <td>2.565673</td>\n",
       "      <td>0.382965</td>\n",
       "    </tr>\n",
       "  </tbody>\n",
       "</table>\n",
       "</div>"
      ],
      "text/plain": [
       "      Metric optimized     Order  AUC of Coverage  AUC of Directness  \\\n",
       "4  relative_directness  additive         0.809037           0.776743   \n",
       "\n",
       "   AUC of Relative Directness      sum    sm_sum    wm_sum    wi_sum  \\\n",
       "4                    0.979893  1.58578  0.174149  0.247632  0.246188   \n",
       "\n",
       "       fsum   wm_fsum  \n",
       "4  2.565673  0.382965  "
      ]
     },
     "execution_count": 97,
     "metadata": {},
     "output_type": "execute_result"
    }
   ],
   "source": [
    "grdf[\"wm_fsum\"] = (\n",
    "    (grdf[\"AUC of Coverage\"] - mean_cov) / mean_cov\n",
    "    + (grdf[\"AUC of Directness\"] - mean_dir) / mean_dir\n",
    "    + (grdf[\"AUC of Relative Directness\"] - mean_reldir) / mean_reldir\n",
    ")\n",
    "grdf[grdf[\"wm_fsum\"] == max(grdf[\"wm_fsum\"])]"
   ]
  },
  {
   "cell_type": "code",
   "execution_count": 98,
   "metadata": {},
   "outputs": [
    {
     "data": {
      "text/html": [
       "<div>\n",
       "<style scoped>\n",
       "    .dataframe tbody tr th:only-of-type {\n",
       "        vertical-align: middle;\n",
       "    }\n",
       "\n",
       "    .dataframe tbody tr th {\n",
       "        vertical-align: top;\n",
       "    }\n",
       "\n",
       "    .dataframe thead th {\n",
       "        text-align: right;\n",
       "    }\n",
       "</style>\n",
       "<table border=\"1\" class=\"dataframe\">\n",
       "  <thead>\n",
       "    <tr style=\"text-align: right;\">\n",
       "      <th></th>\n",
       "      <th>Metric optimized</th>\n",
       "      <th>Order</th>\n",
       "      <th>AUC of Coverage</th>\n",
       "      <th>AUC of Directness</th>\n",
       "      <th>AUC of Relative Directness</th>\n",
       "      <th>sum</th>\n",
       "      <th>sm_sum</th>\n",
       "      <th>wm_sum</th>\n",
       "      <th>wi_sum</th>\n",
       "      <th>fsum</th>\n",
       "      <th>wm_fsum</th>\n",
       "    </tr>\n",
       "  </thead>\n",
       "  <tbody>\n",
       "    <tr>\n",
       "      <th>1539</th>\n",
       "      <td>random</td>\n",
       "      <td>subtractive</td>\n",
       "      <td>0.778527</td>\n",
       "      <td>0.726405</td>\n",
       "      <td>0.924992</td>\n",
       "      <td>1.504932</td>\n",
       "      <td>0.093301</td>\n",
       "      <td>0.132047</td>\n",
       "      <td>0.131519</td>\n",
       "      <td>2.429923</td>\n",
       "      <td>0.20377</td>\n",
       "    </tr>\n",
       "  </tbody>\n",
       "</table>\n",
       "</div>"
      ],
      "text/plain": [
       "     Metric optimized        Order  AUC of Coverage  AUC of Directness  \\\n",
       "1539           random  subtractive         0.778527           0.726405   \n",
       "\n",
       "      AUC of Relative Directness       sum    sm_sum    wm_sum    wi_sum  \\\n",
       "1539                    0.924992  1.504932  0.093301  0.132047  0.131519   \n",
       "\n",
       "          fsum  wm_fsum  \n",
       "1539  2.429923  0.20377  "
      ]
     },
     "execution_count": 98,
     "metadata": {},
     "output_type": "execute_result"
    }
   ],
   "source": [
    "radf[\"wm_fsum\"] = (\n",
    "    (radf[\"AUC of Coverage\"] - mean_cov) / mean_cov\n",
    "    + (radf[\"AUC of Directness\"] - mean_dir) / mean_dir\n",
    "    + (radf[\"AUC of Relative Directness\"] - mean_reldir) / mean_reldir\n",
    ")\n",
    "radf[radf[\"wm_fsum\"] == max(radf[\"wm_fsum\"])]"
   ]
  },
  {
   "cell_type": "code",
   "execution_count": 99,
   "metadata": {},
   "outputs": [
    {
     "data": {
      "text/html": [
       "<div>\n",
       "<style scoped>\n",
       "    .dataframe tbody tr th:only-of-type {\n",
       "        vertical-align: middle;\n",
       "    }\n",
       "\n",
       "    .dataframe tbody tr th {\n",
       "        vertical-align: top;\n",
       "    }\n",
       "\n",
       "    .dataframe thead th {\n",
       "        text-align: right;\n",
       "    }\n",
       "</style>\n",
       "<table border=\"1\" class=\"dataframe\">\n",
       "  <thead>\n",
       "    <tr style=\"text-align: right;\">\n",
       "      <th></th>\n",
       "      <th>Metric optimized</th>\n",
       "      <th>Order</th>\n",
       "      <th>AUC of Coverage</th>\n",
       "      <th>AUC of Directness</th>\n",
       "      <th>AUC of Relative Directness</th>\n",
       "      <th>sum</th>\n",
       "      <th>sm_sum</th>\n",
       "      <th>wm_sum</th>\n",
       "      <th>wi_sum</th>\n",
       "      <th>fsum</th>\n",
       "      <th>wm_fsum</th>\n",
       "      <th>wi_fsum</th>\n",
       "    </tr>\n",
       "  </thead>\n",
       "  <tbody>\n",
       "    <tr>\n",
       "      <th>4</th>\n",
       "      <td>relative_directness</td>\n",
       "      <td>additive</td>\n",
       "      <td>0.809037</td>\n",
       "      <td>0.776743</td>\n",
       "      <td>0.979893</td>\n",
       "      <td>1.58578</td>\n",
       "      <td>0.174149</td>\n",
       "      <td>0.247632</td>\n",
       "      <td>0.246188</td>\n",
       "      <td>2.565673</td>\n",
       "      <td>0.382965</td>\n",
       "      <td>0.384515</td>\n",
       "    </tr>\n",
       "  </tbody>\n",
       "</table>\n",
       "</div>"
      ],
      "text/plain": [
       "      Metric optimized     Order  AUC of Coverage  AUC of Directness  \\\n",
       "4  relative_directness  additive         0.809037           0.776743   \n",
       "\n",
       "   AUC of Relative Directness      sum    sm_sum    wm_sum    wi_sum  \\\n",
       "4                    0.979893  1.58578  0.174149  0.247632  0.246188   \n",
       "\n",
       "       fsum   wm_fsum   wi_fsum  \n",
       "4  2.565673  0.382965  0.384515  "
      ]
     },
     "execution_count": 99,
     "metadata": {},
     "output_type": "execute_result"
    }
   ],
   "source": [
    "grdf[\"wi_fsum\"] = (\n",
    "    (grdf[\"AUC of Coverage\"] - mid_cov) / mid_cov\n",
    "    + (grdf[\"AUC of Directness\"] - mid_dir) / mid_dir\n",
    "    + (grdf[\"AUC of Relative Directness\"] - mid_reldir) / mid_reldir\n",
    ")\n",
    "grdf[grdf[\"wi_fsum\"] == max(grdf[\"wi_fsum\"])]"
   ]
  },
  {
   "cell_type": "code",
   "execution_count": 100,
   "metadata": {},
   "outputs": [
    {
     "data": {
      "text/html": [
       "<div>\n",
       "<style scoped>\n",
       "    .dataframe tbody tr th:only-of-type {\n",
       "        vertical-align: middle;\n",
       "    }\n",
       "\n",
       "    .dataframe tbody tr th {\n",
       "        vertical-align: top;\n",
       "    }\n",
       "\n",
       "    .dataframe thead th {\n",
       "        text-align: right;\n",
       "    }\n",
       "</style>\n",
       "<table border=\"1\" class=\"dataframe\">\n",
       "  <thead>\n",
       "    <tr style=\"text-align: right;\">\n",
       "      <th></th>\n",
       "      <th>Metric optimized</th>\n",
       "      <th>Order</th>\n",
       "      <th>AUC of Coverage</th>\n",
       "      <th>AUC of Directness</th>\n",
       "      <th>AUC of Relative Directness</th>\n",
       "      <th>sum</th>\n",
       "      <th>sm_sum</th>\n",
       "      <th>wm_sum</th>\n",
       "      <th>wi_sum</th>\n",
       "      <th>fsum</th>\n",
       "      <th>wm_fsum</th>\n",
       "      <th>wi_fsum</th>\n",
       "    </tr>\n",
       "  </thead>\n",
       "  <tbody>\n",
       "    <tr>\n",
       "      <th>1539</th>\n",
       "      <td>random</td>\n",
       "      <td>subtractive</td>\n",
       "      <td>0.778527</td>\n",
       "      <td>0.726405</td>\n",
       "      <td>0.924992</td>\n",
       "      <td>1.504932</td>\n",
       "      <td>0.093301</td>\n",
       "      <td>0.132047</td>\n",
       "      <td>0.131519</td>\n",
       "      <td>2.429923</td>\n",
       "      <td>0.20377</td>\n",
       "      <td>0.206068</td>\n",
       "    </tr>\n",
       "  </tbody>\n",
       "</table>\n",
       "</div>"
      ],
      "text/plain": [
       "     Metric optimized        Order  AUC of Coverage  AUC of Directness  \\\n",
       "1539           random  subtractive         0.778527           0.726405   \n",
       "\n",
       "      AUC of Relative Directness       sum    sm_sum    wm_sum    wi_sum  \\\n",
       "1539                    0.924992  1.504932  0.093301  0.132047  0.131519   \n",
       "\n",
       "          fsum  wm_fsum   wi_fsum  \n",
       "1539  2.429923  0.20377  0.206068  "
      ]
     },
     "execution_count": 100,
     "metadata": {},
     "output_type": "execute_result"
    }
   ],
   "source": [
    "radf[\"wi_fsum\"] = (\n",
    "    (radf[\"AUC of Coverage\"] - mid_cov) / mid_cov\n",
    "    + (radf[\"AUC of Directness\"] - mid_dir) / mid_dir\n",
    "    + (radf[\"AUC of Relative Directness\"] - mid_reldir) / mid_reldir\n",
    ")\n",
    "radf[radf[\"wi_fsum\"] == max(radf[\"wi_fsum\"])]"
   ]
  }
 ],
 "metadata": {
  "kernelspec": {
   "display_name": "orderbike",
   "language": "python",
   "name": "python3"
  },
  "language_info": {
   "codemirror_mode": {
    "name": "ipython",
    "version": 3
   },
   "file_extension": ".py",
   "mimetype": "text/x-python",
   "name": "python",
   "nbconvert_exporter": "python",
   "pygments_lexer": "ipython3",
   "version": "3.12.2"
  }
 },
 "nbformat": 4,
 "nbformat_minor": 2
}
