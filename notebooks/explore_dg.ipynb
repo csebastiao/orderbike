{
 "cells": [
  {
   "cell_type": "code",
   "execution_count": 1,
   "id": "df8acf7c",
   "metadata": {},
   "outputs": [],
   "source": [
    "from utg import utils as utgut\n",
    "from orderbike.metrics import directness"
   ]
  },
  {
   "cell_type": "code",
   "execution_count": 6,
   "id": "a18e594e",
   "metadata": {},
   "outputs": [
    {
     "name": "stdout",
     "output_type": "stream",
     "text": [
      "0.8461324129398095 19450.68742860729\n",
      "0.8570855885311106 19060.93058455712\n",
      "0.8581929424191134 19285.709780286765\n",
      "0.8487205684588764 19482.868169093235\n",
      "0.855532765850943 19366.750753094373\n"
     ]
    }
   ],
   "source": [
    "for i in range(5):\n",
    "    folderoots = f\"../data/processed/ignored_files/utg_distorted_grids/dg_{i}\"\n",
    "    G = utgut.load_graph(folderoots + \"/graph.graphml\")\n",
    "    print(directness(G, 0), sum([G.edges[e][\"length\"] for e in G.edges]))"
   ]
  },
  {
   "cell_type": "code",
   "execution_count": 7,
   "id": "45051a0b",
   "metadata": {},
   "outputs": [
    {
     "name": "stdout",
     "output_type": "stream",
     "text": [
      "0.8063746267302296 18000.0\n"
     ]
    }
   ],
   "source": [
    "G = utgut.load_graph(\"../data/processed/ignored_files/paper/grid/graph.graphml\")\n",
    "print(directness(G, 0), sum([G.edges[e][\"length\"] for e in G.edges]))"
   ]
  },
  {
   "cell_type": "code",
   "execution_count": null,
   "id": "60f7d1be",
   "metadata": {},
   "outputs": [],
   "source": []
  }
 ],
 "metadata": {
  "kernelspec": {
   "display_name": "orderbike",
   "language": "python",
   "name": "python3"
  },
  "language_info": {
   "codemirror_mode": {
    "name": "ipython",
    "version": 3
   },
   "file_extension": ".py",
   "mimetype": "text/x-python",
   "name": "python",
   "nbconvert_exporter": "python",
   "pygments_lexer": "ipython3",
   "version": "3.12.2"
  }
 },
 "nbformat": 4,
 "nbformat_minor": 5
}
