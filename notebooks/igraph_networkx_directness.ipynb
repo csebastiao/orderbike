{
 "cells": [
  {
   "cell_type": "code",
   "execution_count": 58,
   "metadata": {},
   "outputs": [],
   "source": [
    "import networkx as nx\n",
    "import igraph as ig\n",
    "import networkit as nk\n",
    "from utg import utils\n",
    "from time import time"
   ]
  },
  {
   "cell_type": "code",
   "execution_count": 59,
   "metadata": {},
   "outputs": [],
   "source": [
    "foldegraph = \"../data/processed/plan_paris/paris_bikeplan_graph.graphml\""
   ]
  },
  {
   "cell_type": "code",
   "execution_count": 60,
   "metadata": {},
   "outputs": [],
   "source": [
    "G_nx = utils.load_graph(foldegraph)\n",
    "G_ig = ig.load(foldegraph)\n",
    "G_nk = nk.nxadapter.nx2nk(G_nx, weightAttr=\"length\")"
   ]
  },
  {
   "cell_type": "code",
   "execution_count": 61,
   "metadata": {},
   "outputs": [
    {
     "name": "stdout",
     "output_type": "stream",
     "text": [
      "Time for finding all shortest path with networkx: 0.0001621246337890625 seconds.\n",
      "Time for finding all shortest path with igraph: 1.167128086090088 seconds.\n",
      "Time for finding all shortest path with networkit: 0.08258700370788574 seconds.\n"
     ]
    }
   ],
   "source": [
    "beg = time()\n",
    "nx_asp = nx.all_pairs_dijkstra_path(G_nx, weight=\"length\")\n",
    "print(\"Time for finding all shortest path with networkx:\", time() - beg, \"seconds.\")\n",
    "beg = time()\n",
    "ig_asp = [G_ig.get_all_shortest_paths(v, weights=\"length\") for v in G_ig.vs]\n",
    "print(\"Time for finding all shortest path with igraph:\", time() - beg, \"seconds.\")\n",
    "beg = time()\n",
    "nk_asp = [nk.distance.Dijkstra(G_nk, u).run().getDistances() for u in G_nk.iterNodes()]\n",
    "print(\"Time for finding all shortest path with networkit:\", time() - beg, \"seconds.\")"
   ]
  },
  {
   "cell_type": "code",
   "execution_count": 62,
   "metadata": {},
   "outputs": [
    {
     "name": "stdout",
     "output_type": "stream",
     "text": [
      "Time for computing betweenness with networkx: 1.3168821334838867 seconds.\n",
      "Time for computing betweenness with igraph: 0.033226728439331055 seconds.\n",
      "Time for computing betweenness with networkit: 0.022110939025878906 seconds.\n"
     ]
    }
   ],
   "source": [
    "beg = time()\n",
    "nx_eb = nx.edge_betweenness_centrality(G_nx, weight=\"length\")\n",
    "print(\"Time for computing betweenness with networkx:\", time() - beg, \"seconds.\")\n",
    "beg = time()\n",
    "ig_eb = G_ig.edge_betweenness(weights=\"length\")\n",
    "print(\"Time for computing betweenness with igraph:\", time() - beg, \"seconds.\")\n",
    "beg = time()\n",
    "nk_eb = nk.centrality.Betweenness(G_nk).run().ranking()\n",
    "print(\"Time for computing betweenness with networkit:\", time() - beg, \"seconds.\")"
   ]
  }
 ],
 "metadata": {
  "kernelspec": {
   "display_name": "orderbike",
   "language": "python",
   "name": "python3"
  },
  "language_info": {
   "codemirror_mode": {
    "name": "ipython",
    "version": 3
   },
   "file_extension": ".py",
   "mimetype": "text/x-python",
   "name": "python",
   "nbconvert_exporter": "python",
   "pygments_lexer": "ipython3",
   "version": "3.12.2"
  }
 },
 "nbformat": 4,
 "nbformat_minor": 2
}
